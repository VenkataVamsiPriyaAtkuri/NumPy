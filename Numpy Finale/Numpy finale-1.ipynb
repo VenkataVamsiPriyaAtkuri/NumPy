{
 "cells": [
  {
   "cell_type": "code",
   "execution_count": 1,
   "id": "7a455a66",
   "metadata": {},
   "outputs": [],
   "source": [
    "import numpy as np"
   ]
  },
  {
   "cell_type": "code",
   "execution_count": 3,
   "id": "b958c576",
   "metadata": {},
   "outputs": [],
   "source": [
    "data=np.genfromtxt(r\"C:\\Users\\priya\\Downloads\\tipsf.csv\",delimiter=\",\",skip_header=1)"
   ]
  },
  {
   "cell_type": "code",
   "execution_count": 4,
   "id": "b0357432",
   "metadata": {},
   "outputs": [
    {
     "data": {
      "text/plain": [
       "array([[  0.  ,  16.99,   1.01, ...,   1.  ,   0.  ,   2.  ],\n",
       "       [  1.  ,  10.34,   1.66, ...,   1.  ,   0.  ,   3.  ],\n",
       "       [  2.  ,  21.01,   3.5 , ...,   1.  ,   0.  ,   3.  ],\n",
       "       ...,\n",
       "       [241.  ,  22.67,   2.  , ...,   0.  ,   0.  ,   2.  ],\n",
       "       [242.  ,  17.82,   1.75, ...,   0.  ,   0.  ,   2.  ],\n",
       "       [243.  ,  18.78,   3.  , ...,   2.  ,   0.  ,   2.  ]])"
      ]
     },
     "execution_count": 4,
     "metadata": {},
     "output_type": "execute_result"
    }
   ],
   "source": [
    "data"
   ]
  },
  {
   "cell_type": "code",
   "execution_count": 5,
   "id": "95fbfa87",
   "metadata": {},
   "outputs": [
    {
     "data": {
      "text/plain": [
       "4827.77"
      ]
     },
     "execution_count": 5,
     "metadata": {},
     "output_type": "execute_result"
    }
   ],
   "source": [
    "# total bill\n",
    "t_b = np.sum(data[:,1])\n",
    "t_b"
   ]
  },
  {
   "cell_type": "code",
   "execution_count": 6,
   "id": "396064b7",
   "metadata": {},
   "outputs": [
    {
     "data": {
      "text/plain": [
       "731.5799999999999"
      ]
     },
     "execution_count": 6,
     "metadata": {},
     "output_type": "execute_result"
    }
   ],
   "source": [
    "# total tip value\n",
    "t_t = np.sum(data[:,2])\n",
    "t_t"
   ]
  },
  {
   "cell_type": "code",
   "execution_count": 8,
   "id": "ac85293d",
   "metadata": {},
   "outputs": [
    {
     "name": "stdout",
     "output_type": "stream",
     "text": [
      "Thursday count is: 62\n",
      "Friday count is: 19\n",
      "Saturdayday count is: 87\n",
      "Sunday count is: 76\n"
     ]
    }
   ],
   "source": [
    "# count of sun,sat, thu and fri\n",
    "a = np.unique(data[:,5], return_counts = True)\n",
    "count = a[1]\n",
    "print(\"Thursday count is:\",count[2])\n",
    "print(\"Friday count is:\",count[3])\n",
    "print(\"Saturdayday count is:\",count[0])\n",
    "print(\"Sunday count is:\",count[1])"
   ]
  },
  {
   "cell_type": "code",
   "execution_count": 12,
   "id": "079e691e",
   "metadata": {},
   "outputs": [
    {
     "name": "stdout",
     "output_type": "stream",
     "text": [
      "Total number of smokers are:  93\n"
     ]
    }
   ],
   "source": [
    "# Count of smokers\n",
    "s = data[:,4][data[:,4]==1]\n",
    "print(\"Total number of smokers are: \",len(s))"
   ]
  },
  {
   "cell_type": "code",
   "execution_count": 25,
   "id": "467c0530",
   "metadata": {},
   "outputs": [
    {
     "name": "stdout",
     "output_type": "stream",
     "text": [
      "Average amount tipped by women:  3.0896178343949052\n",
      "Average amount tipped by men:  2.833448275862069\n"
     ]
    }
   ],
   "source": [
    "# Average tip given by female & male\n",
    "fem=data[:,2][data[:,3]==1]\n",
    "mal=data[:,2][data[:,3]==0]\n",
    "t_b_w = 0\n",
    "t_b_m = 0\n",
    "for i in fem:\n",
    "    t_b_w +=i\n",
    "for j in mal:\n",
    "    t_b_m  +=j\n",
    "print(\"Average amount tipped by women: \",t_b_w/len(fem))\n",
    "print(\"Average amount tipped by men: \",t_b_m/len(mal))\n"
   ]
  },
  {
   "cell_type": "code",
   "execution_count": 28,
   "id": "808d9d5b",
   "metadata": {},
   "outputs": [
    {
     "name": "stdout",
     "output_type": "stream",
     "text": [
      "Amount spent by female:  3256.8200000000024\n",
      "Amount spent by male:  1570.9499999999998\n"
     ]
    }
   ],
   "source": [
    "# Spend by M & F\n",
    "f=data[:,1][data[:,3]==1]\n",
    "m=data[:,1][data[:,3]==0]\n",
    "s_f=0\n",
    "s_m=0\n",
    "for i in f:\n",
    "    s_f=s_f+i\n",
    "for j in m:\n",
    "    s_m=s_m+j\n",
    "print(\"Amount spent by female: \",s_f)\n",
    "print(\"Amount spent by male: \",s_m)"
   ]
  },
  {
   "cell_type": "code",
   "execution_count": 32,
   "id": "0bd25f20",
   "metadata": {},
   "outputs": [
    {
     "name": "stdout",
     "output_type": "stream",
     "text": [
      "Mininum tips collected:  1\n",
      "Maximum tips collected:  10\n"
     ]
    }
   ],
   "source": [
    "# Min & Max tipps given\n",
    "min_t = np.min(data[:,2])\n",
    "max_t = np.max(data[:,2])\n",
    "print(\"Mininum tips collected: \",int(min_t))\n",
    "print(\"Maximum tips collected: \",int(max_t))"
   ]
  },
  {
   "cell_type": "code",
   "execution_count": 34,
   "id": "453117fd",
   "metadata": {},
   "outputs": [
    {
     "name": "stdout",
     "output_type": "stream",
     "text": [
      "Men & women going for Lunch:  68\n",
      "Men & women going for Dinner:  176\n"
     ]
    }
   ],
   "source": [
    "# Count of Male & Female going for lunch & dinner\n",
    "lunch=data[:,3][data[:,6]==1]\n",
    "dinner=data[:,3][data[:,6]==0]\n",
    "print(\"Men & women going for Lunch: \",len(lunch))\n",
    "print(\"Men & women going for Dinner: \",len(dinner))"
   ]
  },
  {
   "cell_type": "code",
   "execution_count": 35,
   "id": "00741bfc",
   "metadata": {},
   "outputs": [
    {
     "name": "stdout",
     "output_type": "stream",
     "text": [
      "Average size is:  2.569672131147541\n"
     ]
    }
   ],
   "source": [
    "# Average size\n",
    "s = 0 \n",
    "for i in data[:,-1]:\n",
    "    s += i\n",
    "a_s = s/len(data[:,-1])\n",
    "print(\"Average size is: \",a_s)"
   ]
  },
  {
   "cell_type": "code",
   "execution_count": 37,
   "id": "10e9be76",
   "metadata": {},
   "outputs": [
    {
     "name": "stdout",
     "output_type": "stream",
     "text": [
      "Female Smokers are:  33\n",
      "Male Smokers are:  60\n"
     ]
    }
   ],
   "source": [
    "# Count of male & female smokers\n",
    "f=data[:,4][(data[:,4]==1) & (data[:,3]==0)]\n",
    "m=data[:,4][(data[:,4]==1) & (data[:,3]==1)]\n",
    "print(\"Female Smokers are: \",len(f))\n",
    "print(\"Male Smokers are: \",len(m))"
   ]
  },
  {
   "cell_type": "code",
   "execution_count": null,
   "id": "e926dbde",
   "metadata": {},
   "outputs": [],
   "source": []
  }
 ],
 "metadata": {
  "kernelspec": {
   "display_name": "Python 3 (ipykernel)",
   "language": "python",
   "name": "python3"
  },
  "language_info": {
   "codemirror_mode": {
    "name": "ipython",
    "version": 3
   },
   "file_extension": ".py",
   "mimetype": "text/x-python",
   "name": "python",
   "nbconvert_exporter": "python",
   "pygments_lexer": "ipython3",
   "version": "3.10.9"
  }
 },
 "nbformat": 4,
 "nbformat_minor": 5
}
