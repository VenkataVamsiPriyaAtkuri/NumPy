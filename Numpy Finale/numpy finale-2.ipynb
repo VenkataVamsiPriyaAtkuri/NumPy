{
 "cells": [
  {
   "cell_type": "code",
   "execution_count": 1,
   "id": "a96d0645",
   "metadata": {},
   "outputs": [],
   "source": [
    "import numpy as np"
   ]
  },
  {
   "cell_type": "code",
   "execution_count": 2,
   "id": "ce95fb10",
   "metadata": {},
   "outputs": [],
   "source": [
    "data=np.genfromtxt(r\"C:\\Users\\priya\\Downloads\\train_extended.csv\",delimiter=\",\",skip_header=1)"
   ]
  },
  {
   "cell_type": "code",
   "execution_count": 3,
   "id": "b5bea7b5",
   "metadata": {},
   "outputs": [
    {
     "data": {
      "text/plain": [
       "array([[ 1.575     ,  1.225     ,  0.375     , ...,  6.3219385 ,\n",
       "         9.63883   , 10.        ],\n",
       "       [ 1.2375    ,  1.        ,  0.375     , ...,  3.798833  ,\n",
       "         7.654365  , 19.        ],\n",
       "       [ 1.45      ,  1.1625    ,  0.4125    , ...,  7.01650125,\n",
       "         7.257472  , 11.        ],\n",
       "       ...,\n",
       "       [ 1.125     ,  0.9125    ,  0.2875    , ...,  1.984465  ,\n",
       "         3.118445  ,  7.        ],\n",
       "       [ 1.625     ,  1.275     ,  0.4125    , ...,  7.86698625,\n",
       "        10.489315  , 11.        ],\n",
       "       [ 1.5875    ,  1.25      ,  0.3875    , ...,  7.38504475,\n",
       "         8.788345  , 11.        ]])"
      ]
     },
     "execution_count": 3,
     "metadata": {},
     "output_type": "execute_result"
    }
   ],
   "source": [
    "data"
   ]
  },
  {
   "cell_type": "code",
   "execution_count": 6,
   "id": "25d9b4ef",
   "metadata": {},
   "outputs": [
    {
     "name": "stdout",
     "output_type": "stream",
     "text": [
      "Minimum length is:  0.0\n",
      "Maximum length is:  7.58349125\n"
     ]
    }
   ],
   "source": [
    "#1. What is the max & min length\n",
    "min_l = np.min(data[:,0])\n",
    "max_l = np.max(data[:,0])\n",
    "print(\"Minimum length is: \",min_l)\n",
    "print(\"Maximum length is: \",max_l)"
   ]
  },
  {
   "cell_type": "code",
   "execution_count": 8,
   "id": "55d3f697",
   "metadata": {},
   "outputs": [
    {
     "name": "stdout",
     "output_type": "stream",
     "text": [
      "Difference between min & max lengths are:  7.58349125\n"
     ]
    }
   ],
   "source": [
    "#2. difference b/w min & max lengths\n",
    "min_l = np.min(data[:,0])\n",
    "max_l = np.max(data[:,0])\n",
    "diff = max_l-min_l\n",
    "print(\"Difference between min & max lengths are: \",diff)"
   ]
  },
  {
   "cell_type": "code",
   "execution_count": 10,
   "id": "3d6658a7",
   "metadata": {},
   "outputs": [
    {
     "data": {
      "text/plain": [
       "array([ 1.31244808,  1.02032036,  0.34602787, 23.12343631,  9.98937025,\n",
       "        4.99318096,  6.63422915,  9.950615  ])"
      ]
     },
     "execution_count": 10,
     "metadata": {},
     "output_type": "execute_result"
    }
   ],
   "source": [
    "# Column wise average\n",
    "def col_avg(d):\n",
    "    return np.sum(d)/len(data)\n",
    "np.apply_along_axis(col_avg,0,data)\n",
    "    "
   ]
  },
  {
   "cell_type": "code",
   "execution_count": 12,
   "id": "6bd1a393",
   "metadata": {},
   "outputs": [
    {
     "name": "stdout",
     "output_type": "stream",
     "text": [
      "Age of persons of height greater than 0.4:  [11. 14. 13. ... 11. 11. 11.]\n"
     ]
    }
   ],
   "source": [
    "# age of the persons whose height is greater than 0.4\n",
    "age = data[:,-1][data[:,2]>0.4]\n",
    "print(\"Age of persons of height greater than 0.4: \",age)"
   ]
  },
  {
   "cell_type": "code",
   "execution_count": 14,
   "id": "6c87a591",
   "metadata": {},
   "outputs": [
    {
     "name": "stdout",
     "output_type": "stream",
     "text": [
      "Average height of the persons whose age is 10 0.3833672856540043\n",
      "Average weight of the persons whose age is 10 0.3875000000001401\n"
     ]
    }
   ],
   "source": [
    "# Find out average height and weight of the persons whose age is 10\n",
    "hei=data[:,2][data[:,-1]==10]\n",
    "wei=data[:,3][data[:,-1]==10]\n",
    "h=0\n",
    "w=0\n",
    "for i in hei:\n",
    "    h=h+i\n",
    "for j in wei:\n",
    "    w=w+i\n",
    "avg_height=h/len(hei)\n",
    "avg_weight=w/len(wei)\n",
    "print(\"Average height of the persons whose age is 10\",avg_height)\n",
    "print(\"Average weight of the persons whose age is 10\",avg_weight)"
   ]
  },
  {
   "cell_type": "code",
   "execution_count": 20,
   "id": "917426d1",
   "metadata": {},
   "outputs": [
    {
     "name": "stdout",
     "output_type": "stream",
     "text": [
      "Total shell weight:  1326846\n"
     ]
    }
   ],
   "source": [
    "# Total shell weight\n",
    "t_s_w = np.round(np.sum(data[:,-2]))\n",
    "print(\"Total shell weight: \",int(t_s_w))"
   ]
  },
  {
   "cell_type": "code",
   "execution_count": 24,
   "id": "5d54219c",
   "metadata": {},
   "outputs": [
    {
     "name": "stdout",
     "output_type": "stream",
     "text": [
      "persons belongs to unique age:  (array([ 1.,  2.,  3.,  4.,  5.,  6.,  7.,  8.,  9., 10., 11., 12., 13.,\n",
      "       14., 15., 16., 17., 18., 19., 20., 21., 22., 23., 24., 25., 26.,\n",
      "       27., 29.]), array([   46,    42,   625,  2787,  5475, 12450, 18276, 26818, 32906,\n",
      "       30803, 23457, 12717, 10037,  6352,  4831,  3191,  2705,  1953,\n",
      "        1591,  1206,   721,   296,   352,   110,    51,    46,    99,\n",
      "          57], dtype=int64))\n"
     ]
    }
   ],
   "source": [
    "# Persons belongs to each and every unique age\n",
    "uni_age=np.unique(data[:,7],return_counts=True)\n",
    "print(\"persons belongs to unique age: \",uni_age)"
   ]
  },
  {
   "cell_type": "code",
   "execution_count": 25,
   "id": "ea559c12",
   "metadata": {},
   "outputs": [
    {
     "name": "stdout",
     "output_type": "stream",
     "text": [
      "Difference between shucked weight and viscera weight:  999237\n"
     ]
    }
   ],
   "source": [
    "#difference between shucked weight and viscua weight\n",
    "shu_wei = np.sum(data[:,4])\n",
    "vis_wei = np.sum(data[:,5])\n",
    "diff = shu_wei-vis_wei\n",
    "print(\"Difference between shucked weight and viscera weight: \",int(diff))"
   ]
  },
  {
   "cell_type": "code",
   "execution_count": 29,
   "id": "86fc7ae1",
   "metadata": {},
   "outputs": [
    {
     "name": "stdout",
     "output_type": "stream",
     "text": [
      "average height of the persons whose age between is 14 & 19:  145821.0\n"
     ]
    }
   ],
   "source": [
    "# average height of the persons whose age between is 14 & 19\n",
    "avg_h = data.take(np.where((data[:,7]>=14) & (data[:,7]<=19)))\n",
    "s = np.sum(avg_h)\n",
    "h = np.round((s/len(avg_h)))\n",
    "print(\"average height of the persons whose age between is 14 & 19: \",h)"
   ]
  },
  {
   "cell_type": "code",
   "execution_count": null,
   "id": "ae51edca",
   "metadata": {},
   "outputs": [],
   "source": []
  }
 ],
 "metadata": {
  "kernelspec": {
   "display_name": "Python 3 (ipykernel)",
   "language": "python",
   "name": "python3"
  },
  "language_info": {
   "codemirror_mode": {
    "name": "ipython",
    "version": 3
   },
   "file_extension": ".py",
   "mimetype": "text/x-python",
   "name": "python",
   "nbconvert_exporter": "python",
   "pygments_lexer": "ipython3",
   "version": "3.10.9"
  }
 },
 "nbformat": 4,
 "nbformat_minor": 5
}
